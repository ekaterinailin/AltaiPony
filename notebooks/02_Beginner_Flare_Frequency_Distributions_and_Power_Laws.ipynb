{
 "cells": [
  {
   "cell_type": "markdown",
   "metadata": {},
   "source": [
    "# Flare Frequency Distributions, power laws, and more\n",
    "\n",
    "## This notebook illustrates the use of the FFD module `ffd.py`. \n",
    "\n",
    "FFD stands for Flare Frequency Distribution. The format of the flare table that is used to inititalize an FFD object shares some of the columns of the `FlareLightCurve.flares` table. \n",
    "\n",
    "## This module includes functionality to \n",
    "\n",
    "- fit the power law exponent $\\alpha$ and intercept $\\beta$, \n",
    "- plot the resulting function in the cumulative form,\n",
    "- test if the power law assumption must be rejected, \n",
    "- and if the distribution is truncated at the high energy end.\n",
    "\n",
    "Furthermore, you can make use of the `ed_corr`, `recovery_probability` attributes of the flares in the flare table that you may obtain from performing *injection and recovery of synthetic flares*.\n",
    "\n",
    "Finally, if your flare table contains contributions from multiple stars that you think generate flares that can be described by the same power law but with different detection thresholds, you can use the `mutliple_stars` keyword to account for this. \n",
    "\n",
    "*Note that samples with less than 100-200 flares are to be analysed with caution.*"
   ]
  },
  {
   "cell_type": "code",
   "execution_count": 1,
   "metadata": {},
   "outputs": [],
   "source": [
    "# Import the main class and a function to generate synthetic flare samples.\n",
    "from altaipony.ffd import FFD, generate_random_power_law_distribution\n",
    "\n",
    "import pandas as pd\n",
    "import numpy as np\n",
    "\n",
    "import matplotlib.pyplot as plt\n",
    "%matplotlib inline\n",
    "\n",
    "for att in ['axes.labelsize', 'axes.titlesize', 'legend.fontsize',\n",
    "            'legend.fontsize', 'xtick.labelsize', 'ytick.labelsize']:\n",
    "    plt.rcParams[att] = 16"
   ]
  },
  {
   "cell_type": "markdown",
   "metadata": {},
   "source": [
    "## Create an FFD object\n",
    "\n",
    "Flares appear to follow a power law distribution of energies like so:\n",
    "\n",
    "$$f(E)\\,\\mathrm{d}E = \\beta \\cdot E^{-\\alpha}\\,\\mathrm{d}E$$\n",
    "\n",
    "Let's create a power law distributed sample of flare energies with exponent $\\alpha=-2$\n",
    "\n",
    "A simple FFD of only one star where we assume to have correct energies, no observational biases, and a clear detection threshold at $ED=10$ s.\n",
    "\n",
    "`ed_rec` is the recovered equivalent duration of the flare."
   ]
  },
  {
   "cell_type": "code",
   "execution_count": 2,
   "metadata": {},
   "outputs": [
    {
     "name": "stderr",
     "output_type": "stream",
     "text": [
      "No total observing time given. Set to 1. You are now working with number counts instead of frequency.\n"
     ]
    },
    {
     "data": {
      "text/html": [
       "<div>\n",
       "<style scoped>\n",
       "    .dataframe tbody tr th:only-of-type {\n",
       "        vertical-align: middle;\n",
       "    }\n",
       "\n",
       "    .dataframe tbody tr th {\n",
       "        vertical-align: top;\n",
       "    }\n",
       "\n",
       "    .dataframe thead th {\n",
       "        text-align: right;\n",
       "    }\n",
       "</style>\n",
       "<table border=\"1\" class=\"dataframe\">\n",
       "  <thead>\n",
       "    <tr style=\"text-align: right;\">\n",
       "      <th></th>\n",
       "      <th>ed_rec</th>\n",
       "    </tr>\n",
       "  </thead>\n",
       "  <tbody>\n",
       "    <tr>\n",
       "      <th>0</th>\n",
       "      <td>20.690935</td>\n",
       "    </tr>\n",
       "    <tr>\n",
       "      <th>1</th>\n",
       "      <td>32.511053</td>\n",
       "    </tr>\n",
       "    <tr>\n",
       "      <th>2</th>\n",
       "      <td>13.645735</td>\n",
       "    </tr>\n",
       "    <tr>\n",
       "      <th>3</th>\n",
       "      <td>30.096645</td>\n",
       "    </tr>\n",
       "    <tr>\n",
       "      <th>4</th>\n",
       "      <td>99.001434</td>\n",
       "    </tr>\n",
       "  </tbody>\n",
       "</table>\n",
       "</div>"
      ],
      "text/plain": [
       "      ed_rec\n",
       "0  20.690935\n",
       "1  32.511053\n",
       "2  13.645735\n",
       "3  30.096645\n",
       "4  99.001434"
      ]
     },
     "execution_count": 2,
     "metadata": {},
     "output_type": "execute_result"
    }
   ],
   "source": [
    "# a, b, g, size = energy lower and upper limit, power law exponent +1, number of flares\n",
    "pwl = generate_random_power_law_distribution(10, 1e3, -1, size=200, seed=80)\n",
    "\n",
    "# Create a FFD with the energies you detected. \n",
    "simple_ffd = FFD(f=pd.DataFrame({\"ed_rec\": pwl}))\n",
    "simple_ffd.f.head()"
   ]
  },
  {
   "cell_type": "code",
   "execution_count": 3,
   "metadata": {},
   "outputs": [
    {
     "data": {
      "text/plain": [
       "1.0"
      ]
     },
     "execution_count": 3,
     "metadata": {},
     "output_type": "execute_result"
    }
   ],
   "source": [
    "# The default value for the total observing time \n",
    "# that it took to detect the candidates im simple_ffd.f\n",
    "# is set to 1.\n",
    "simple_ffd.tot_obs_time"
   ]
  },
  {
   "cell_type": "markdown",
   "metadata": {},
   "source": [
    "## Plot the FFD"
   ]
  },
  {
   "cell_type": "code",
   "execution_count": 4,
   "metadata": {},
   "outputs": [
    {
     "name": "stderr",
     "output_type": "stream",
     "text": [
      "Setting ED with new values, size 200.\n",
      "Setting frequency values with new values, size 200.\n",
      "Setting frequency adjusted count values with new values, size 200.\n"
     ]
    }
   ],
   "source": [
    "ed, freq, counts = simple_ffd.ed_and_freq()"
   ]
  },
  {
   "cell_type": "code",
   "execution_count": 5,
   "metadata": {},
   "outputs": [
    {
     "data": {
      "image/png": "[encoded data removed]",
      "text/plain": [
       "<Figure size 576x432 with 1 Axes>"
      ]
     },
     "metadata": {
      "needs_background": "light"
     },
     "output_type": "display_data"
    }
   ],
   "source": [
    "plt.figure(figsize=(8, 6))\n",
    "plt.scatter(ed, freq, c=\"k\")\n",
    "plt.xscale(\"log\")\n",
    "plt.yscale(\"log\")\n",
    "plt.xlabel(\"ED [s]\")\n",
    "plt.ylabel(\"cumulative number of flares per time\");"
   ]
  },
  {
   "cell_type": "markdown",
   "metadata": {},
   "source": [
    "## Fit powerlaw\n",
    "\n",
    "We can fit the power law exponent $\\alpha$ and intercept $\\beta$ using `FFD.fit_powerlaw()`\n",
    "\n",
    "This method is detailed in [Ilin et al. (2020)](https://ui.adsabs.harvard.edu/abs/2020arXiv201005576I/abstract), and implements a simplified version of the Bayesian flare frequency predictor developed by Wheatland (2004)."
   ]
  },
  {
   "cell_type": "code",
   "execution_count": 6,
   "metadata": {},
   "outputs": [
    {
     "name": "stderr",
     "output_type": "stream",
     "text": [
      "100%|██████████| 500/500 [00:06<00:00, 79.87it/s]\n",
      "100%|██████████| 500/500 [00:07<00:00, 70.54it/s]\n",
      "100%|██████████| 500/500 [00:06<00:00, 79.69it/s]\n",
      "100%|██████████| 500/500 [00:06<00:00, 80.47it/s]\n",
      "100%|██████████| 500/500 [00:06<00:00, 75.84it/s]\n"
     ]
    }
   ],
   "source": [
    "# Caution: may take a minute\n",
    "simple_ffd.fit_powerlaw(\"mcmc\");"
   ]
  },
  {
   "cell_type": "code",
   "execution_count": 7,
   "metadata": {},
   "outputs": [
    {
     "data": {
      "text/plain": [
       "(2.041785081531872, 0.07598158206969874, 0.07111524587912488)"
      ]
     },
     "execution_count": 7,
     "metadata": {},
     "output_type": "execute_result"
    }
   ],
   "source": [
    "# power law exponent (see Eq. 3 in Ilin et al. (2020))\n",
    "simple_ffd.alpha, simple_ffd.alpha_up_err, simple_ffd.alpha_low_err"
   ]
  },
  {
   "cell_type": "code",
   "execution_count": 8,
   "metadata": {},
   "outputs": [
    {
     "data": {
      "text/plain": [
       "(2302.96755340424, 670.4364587925747, 503.09507205326236)"
      ]
     },
     "execution_count": 8,
     "metadata": {},
     "output_type": "execute_result"
    }
   ],
   "source": [
    "# power law intercept  (see Eq. 3 in Ilin et al. (2020))\n",
    "simple_ffd.beta, simple_ffd.beta_up_err,  simple_ffd.beta_low_err, "
   ]
  },
  {
   "cell_type": "markdown",
   "metadata": {},
   "source": [
    "## Plot the power law"
   ]
  },
  {
   "cell_type": "code",
   "execution_count": 9,
   "metadata": {},
   "outputs": [
    {
     "data": {
      "image/png": "[encoded data removed]",
      "text/plain": [
       "<Figure size 576x432 with 1 Axes>"
      ]
     },
     "metadata": {
      "needs_background": "light"
     },
     "output_type": "display_data"
    }
   ],
   "source": [
    "fig, ax = plt.subplots(1, figsize=(8,6))\n",
    "ax.scatter(ed, freq, c=\"k\")\n",
    "ax.set_xscale(\"log\")\n",
    "ax.set_yscale(\"log\")\n",
    "ax.set_xlabel(\"ED [s]\")\n",
    "ax.set_ylabel(\"cumulative number of flares per time\")\n",
    "simple_ffd.plot_powerlaw(ax, c=\"r\", label=fr'$\\alpha=$-{simple_ffd.alpha:.2f}')\n",
    "plt.legend();"
   ]
  },
  {
   "cell_type": "markdown",
   "metadata": {},
   "source": [
    "## Is this distribution a powerlaw?"
   ]
  },
  {
   "cell_type": "code",
   "execution_count": 10,
   "metadata": {},
   "outputs": [
    {
     "name": "stderr",
     "output_type": "stream",
     "text": [
      "/home/ekaterina/Documents/000_envs/refactor/lib/python3.6/site-packages/altaipony-1.0.1-py3.6.egg/altaipony/ffd.py:507: UserWarning: Power law exponent is steep. Power of statistical tests decreases according to Maschberger and Kroupa 2009.\n",
      "  warnings.warn('Power law exponent is steep. '\n"
     ]
    },
    {
     "data": {
      "text/plain": [
       "True"
      ]
     },
     "execution_count": 10,
     "metadata": {},
     "output_type": "execute_result"
    }
   ],
   "source": [
    "simple_ffd.is_powerlaw()"
   ]
  },
  {
   "cell_type": "markdown",
   "metadata": {},
   "source": [
    "## Is this power law distribution truncated at the upper energy limit?"
   ]
  },
  {
   "cell_type": "code",
   "execution_count": 11,
   "metadata": {},
   "outputs": [
    {
     "data": {
      "text/plain": [
       "False"
      ]
     },
     "execution_count": 11,
     "metadata": {},
     "output_type": "execute_result"
    }
   ],
   "source": [
    "simple_ffd.is_powerlaw_truncated()"
   ]
  },
  {
   "cell_type": "markdown",
   "metadata": {},
   "source": [
    "This distribution is consistent with a power law that is not truncated.\n",
    "\n",
    "Let's create a truncated version and see if it works:"
   ]
  },
  {
   "cell_type": "code",
   "execution_count": 12,
   "metadata": {},
   "outputs": [
    {
     "name": "stderr",
     "output_type": "stream",
     "text": [
      "No total observing time given. Set to 1. You are now working with number counts instead of frequency.\n",
      "Setting ED with new values, size 191.\n",
      "Setting frequency values with new values, size 191.\n",
      "Setting frequency adjusted count values with new values, size 191.\n"
     ]
    }
   ],
   "source": [
    "f=pd.DataFrame({\"ed_rec\": pwl})\n",
    "simple_truncated_ffd = FFD(f=f[f.ed_rec < 200])  # truncate at 200s \n",
    "simple_truncated_ffd.alpha = 2.\n",
    "simple_truncated_ffd.ed_and_freq();"
   ]
  },
  {
   "cell_type": "code",
   "execution_count": 13,
   "metadata": {},
   "outputs": [
    {
     "data": {
      "text/plain": [
       "True"
      ]
     },
     "execution_count": 13,
     "metadata": {},
     "output_type": "execute_result"
    }
   ],
   "source": [
    "simple_truncated_ffd.is_powerlaw_truncated()"
   ]
  },
  {
   "cell_type": "markdown",
   "metadata": {},
   "source": [
    "*You can play with the truncation limit and sample size to get a feeling for the sensitivity of the test given the sample size.*"
   ]
  },
  {
   "cell_type": "markdown",
   "metadata": {},
   "source": [
    "# Fit $\\alpha$ using the MLE method from Maschberger and Kroupa (2009).\n",
    "\n",
    "Alternatively, you can fit $\\alpha$ and $\\beta$ using a modified maximum likelihood estimator for $\\alpha$ and a least suqares fit with bootstrapped uncertainties on $\\beta$.\n",
    "\n",
    "You can use it by passing \"mmle\" to `fit_powerlaw()`\n",
    "\n",
    "In general, we recommend to use the MCMC fit we used above, because it fits both uncertainties simultaneously and more accurately if the posterior distribution is asymmteric (which is typically the case), but if you just want a relatively quick estimate of the parameter, the MMLE is your friend.  \n",
    "\n",
    "See Maschberger and Kroupa (2009) for details: [MNRAS](https://academic.oup.com/mnras/article/395/2/931/1747409), [ArXiv](https://arxiv.org/abs/0905.0474)"
   ]
  },
  {
   "cell_type": "code",
   "execution_count": 14,
   "metadata": {},
   "outputs": [
    {
     "data": {
      "text/plain": [
       "(1.963553855895996, 0.08012203082491737)"
      ]
     },
     "execution_count": 14,
     "metadata": {},
     "output_type": "execute_result"
    }
   ],
   "source": [
    "simple_ffd.fit_powerlaw(\"mmle\")\n",
    "simple_ffd.alpha, simple_ffd.alpha_err"
   ]
  },
  {
   "cell_type": "markdown",
   "metadata": {},
   "source": [
    "$\\beta$ is fitted using the least-squares method:"
   ]
  },
  {
   "cell_type": "code",
   "execution_count": 15,
   "metadata": {},
   "outputs": [
    {
     "data": {
      "text/plain": [
       "(1753.1677389526367, 140.50464845948764)"
      ]
     },
     "execution_count": 15,
     "metadata": {},
     "output_type": "execute_result"
    }
   ],
   "source": [
    "simple_ffd.beta, simple_ffd.beta_err"
   ]
  },
  {
   "cell_type": "markdown",
   "metadata": {},
   "source": [
    "Finally, show the resulting fit, and compare to the intrinsic distribution:"
   ]
  },
  {
   "cell_type": "code",
   "execution_count": 16,
   "metadata": {
    "scrolled": false
   },
   "outputs": [
    {
     "data": {
      "image/png": "[encoded data removed]",
      "text/plain": [
       "<Figure size 576x432 with 1 Axes>"
      ]
     },
     "metadata": {
      "needs_background": "light"
     },
     "output_type": "display_data"
    }
   ],
   "source": [
    "fig, ax = plt.subplots(1, figsize=(8,6))\n",
    "\n",
    "# Plot the FFD together with the best fit power law\n",
    "\n",
    "ax.scatter(simple_ffd.ed, simple_ffd.freq, c=\"k\")\n",
    "simple_ffd.plot_powerlaw(ax, c=\"r\", label=fr\"fitted $\\alpha=-{simple_ffd.alpha:.2f}$\")\n",
    "\n",
    "#--------------------------------------------------------------------------------------\n",
    "\n",
    "plt.xscale(\"log\")\n",
    "plt.yscale(\"log\")\n",
    "plt.xlabel(\"ED [s]\")\n",
    "plt.ylabel(\"cumulative number of flares per time\")\n",
    "plt.legend();"
   ]
  },
  {
   "cell_type": "code",
   "execution_count": null,
   "metadata": {},
   "outputs": [],
   "source": []
  }
 ],
 "metadata": {
  "kernelspec": {
   "display_name": "refactor",
   "language": "python",
   "name": "refactor"
  },
  "language_info": {
   "codemirror_mode": {
    "name": "ipython",
    "version": 3
   },
   "file_extension": ".py",
   "mimetype": "text/x-python",
   "name": "python",
   "nbconvert_exporter": "python",
   "pygments_lexer": "ipython3",
   "version": "3.6.9"
  }
 },
 "nbformat": 4,
 "nbformat_minor": 2
}
