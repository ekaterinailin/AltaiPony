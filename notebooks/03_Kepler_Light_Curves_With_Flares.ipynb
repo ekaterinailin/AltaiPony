{
 "cells": [
  {
   "cell_type": "code",
   "execution_count": 1,
   "metadata": {},
   "outputs": [
    {
     "name": "stderr",
     "output_type": "stream",
     "text": [
      "/usr/lib/python3.6/importlib/_bootstrap.py:219: RuntimeWarning: numpy.ufunc size changed, may indicate binary incompatibility. Expected 192 from C header, got 216 from PyObject\n",
      "  return f(*args, **kwds)\n"
     ]
    }
   ],
   "source": [
    "from altaipony.lcio import from_mast, from_path\n",
    "import numpy as np\n",
    "import matplotlib.pyplot as plt"
   ]
  },
  {
   "cell_type": "markdown",
   "metadata": {},
   "source": [
    "Find and download the TargetPixelFile for your light curve:"
   ]
  },
  {
   "cell_type": "code",
   "execution_count": 2,
   "metadata": {},
   "outputs": [
    {
     "name": "stderr",
     "output_type": "stream",
     "text": [
      "/home/ekaterina/Documents/000_envs/refactor/lib/python3.6/site-packages/lightkurve/io/kepler.py:38: ResourceWarning: unclosed file <_io.FileIO name='/home/ekaterina/.lightkurve-cache/mastDownload/Kepler/kplr010646889_lc_Q111111111111111111/kplr010646889-2012277125453_llc.fits' mode='rb' closefd=True>\n",
      "  time_format=\"bkjd\",\n",
      "2% (88/4432) of the cadences will be ignored due to the quality mask (quality_bitmask=1130799).\n",
      "2% (88/4432) of the cadences will be ignored due to the quality mask (quality_bitmask=1130799).\n"
     ]
    }
   ],
   "source": [
    "flc = from_mast(\"10646889\", mode=\"LC\", c=14, mission=\"Kepler\")"
   ]
  },
  {
   "cell_type": "code",
   "execution_count": 3,
   "metadata": {},
   "outputs": [],
   "source": [
    "flc.plot();"
   ]
  },
  {
   "cell_type": "markdown",
   "metadata": {},
   "source": [
    "Find the gaps in the light curve to inform the de-trending algorithm. \n",
    "\n",
    "The de-trending splits the light curve in continuous chunks to avoid flukes from over-fitting."
   ]
  },
  {
   "cell_type": "code",
   "execution_count": 4,
   "metadata": {},
   "outputs": [],
   "source": [
    "flcd = flc.detrend(\"savgol\", window_length=59)"
   ]
  },
  {
   "cell_type": "markdown",
   "metadata": {},
   "source": [
    "Now you can visually compare the results:"
   ]
  },
  {
   "cell_type": "code",
   "execution_count": 5,
   "metadata": {
    "scrolled": false
   },
   "outputs": [
    {
     "data": {
      "image/png": "[encoded data removed]",
      "text/plain": [
       "<Figure size 864x360 with 1 Axes>"
      ]
     },
     "metadata": {
      "needs_background": "light"
     },
     "output_type": "display_data"
    }
   ],
   "source": [
    "%matplotlib inline\n",
    "plt.figure(figsize=(12,5))\n",
    "\n",
    "plt.plot(flcd.time.value, \n",
    "         flcd.detrended_flux / np.nanmedian(flcd.detrended_flux), \n",
    "         c=\"k\", label=\"de-trended\")\n",
    "plt.plot(flcd.time.value, \n",
    "         flcd.flux / np.nanmedian(flcd.flux) + 0.001, \n",
    "         c=\"grey\", label=\"non de-trended\")\n",
    "plt.xlim(1365,1369)\n",
    "plt.legend(fontsize=15);"
   ]
  },
  {
   "cell_type": "markdown",
   "metadata": {},
   "source": [
    "### The above figure shows a flare that we can now try to find in the de-trended light curve:"
   ]
  },
  {
   "cell_type": "code",
   "execution_count": 6,
   "metadata": {},
   "outputs": [
    {
     "name": "stderr",
     "output_type": "stream",
     "text": [
      "Found 3 candidate(s) in the (0,734) gap.\n",
      "Found 0 candidate(s) in the (734,1152) gap.\n",
      "Found 2 candidate(s) in the (1152,2615) gap.\n",
      "Found 2 candidate(s) in the (2615,4269) gap.\n"
     ]
    },
    {
     "data": {
      "text/html": [
       "<div>\n",
       "<style scoped>\n",
       "    .dataframe tbody tr th:only-of-type {\n",
       "        vertical-align: middle;\n",
       "    }\n",
       "\n",
       "    .dataframe tbody tr th {\n",
       "        vertical-align: top;\n",
       "    }\n",
       "\n",
       "    .dataframe thead th {\n",
       "        text-align: right;\n",
       "    }\n",
       "</style>\n",
       "<table border=\"1\" class=\"dataframe\">\n",
       "  <thead>\n",
       "    <tr style=\"text-align: right;\">\n",
       "      <th></th>\n",
       "      <th>istart</th>\n",
       "      <th>istop</th>\n",
       "      <th>cstart</th>\n",
       "      <th>cstop</th>\n",
       "      <th>tstart</th>\n",
       "      <th>tstop</th>\n",
       "      <th>ed_rec</th>\n",
       "      <th>ed_rec_err</th>\n",
       "      <th>ampl_rec</th>\n",
       "      <th>dur</th>\n",
       "      <th>total_n_valid_data_points</th>\n",
       "    </tr>\n",
       "  </thead>\n",
       "  <tbody>\n",
       "    <tr>\n",
       "      <th>6</th>\n",
       "      <td>4046</td>\n",
       "      <td>4049</td>\n",
       "      <td>61556</td>\n",
       "      <td>61559</td>\n",
       "      <td>1366.744610</td>\n",
       "      <td>1366.805909</td>\n",
       "      <td>25.553000</td>\n",
       "      <td>0.402576</td>\n",
       "      <td>0.007049</td>\n",
       "      <td>0.061299</td>\n",
       "      <td>4269.0</td>\n",
       "    </tr>\n",
       "    <tr>\n",
       "      <th>3</th>\n",
       "      <td>1708</td>\n",
       "      <td>1712</td>\n",
       "      <td>59152</td>\n",
       "      <td>59156</td>\n",
       "      <td>1317.622888</td>\n",
       "      <td>1317.704622</td>\n",
       "      <td>25.284586</td>\n",
       "      <td>0.430728</td>\n",
       "      <td>0.006589</td>\n",
       "      <td>0.081734</td>\n",
       "      <td>4269.0</td>\n",
       "    </tr>\n",
       "    <tr>\n",
       "      <th>0</th>\n",
       "      <td>1</td>\n",
       "      <td>5</td>\n",
       "      <td>57026</td>\n",
       "      <td>57030</td>\n",
       "      <td>1274.180596</td>\n",
       "      <td>1274.262332</td>\n",
       "      <td>8.198613</td>\n",
       "      <td>0.530889</td>\n",
       "      <td>0.001365</td>\n",
       "      <td>0.081736</td>\n",
       "      <td>4269.0</td>\n",
       "    </tr>\n",
       "    <tr>\n",
       "      <th>4</th>\n",
       "      <td>2588</td>\n",
       "      <td>2592</td>\n",
       "      <td>60040</td>\n",
       "      <td>60044</td>\n",
       "      <td>1335.767825</td>\n",
       "      <td>1335.849558</td>\n",
       "      <td>3.819592</td>\n",
       "      <td>0.522527</td>\n",
       "      <td>0.000763</td>\n",
       "      <td>0.081734</td>\n",
       "      <td>4269.0</td>\n",
       "    </tr>\n",
       "    <tr>\n",
       "      <th>2</th>\n",
       "      <td>522</td>\n",
       "      <td>525</td>\n",
       "      <td>57562</td>\n",
       "      <td>57565</td>\n",
       "      <td>1285.133208</td>\n",
       "      <td>1285.194510</td>\n",
       "      <td>3.607333</td>\n",
       "      <td>0.453797</td>\n",
       "      <td>0.000886</td>\n",
       "      <td>0.061302</td>\n",
       "      <td>4269.0</td>\n",
       "    </tr>\n",
       "    <tr>\n",
       "      <th>1</th>\n",
       "      <td>337</td>\n",
       "      <td>340</td>\n",
       "      <td>57372</td>\n",
       "      <td>57375</td>\n",
       "      <td>1281.250758</td>\n",
       "      <td>1281.312060</td>\n",
       "      <td>2.574387</td>\n",
       "      <td>0.464555</td>\n",
       "      <td>0.000531</td>\n",
       "      <td>0.061302</td>\n",
       "      <td>4269.0</td>\n",
       "    </tr>\n",
       "    <tr>\n",
       "      <th>5</th>\n",
       "      <td>3298</td>\n",
       "      <td>3301</td>\n",
       "      <td>60801</td>\n",
       "      <td>60804</td>\n",
       "      <td>1351.317573</td>\n",
       "      <td>1351.378873</td>\n",
       "      <td>2.554512</td>\n",
       "      <td>0.463625</td>\n",
       "      <td>0.000516</td>\n",
       "      <td>0.061300</td>\n",
       "      <td>4269.0</td>\n",
       "    </tr>\n",
       "  </tbody>\n",
       "</table>\n",
       "</div>"
      ],
      "text/plain": [
       "  istart istop cstart  cstop       tstart        tstop     ed_rec  ed_rec_err  \\\n",
       "6   4046  4049  61556  61559  1366.744610  1366.805909  25.553000    0.402576   \n",
       "3   1708  1712  59152  59156  1317.622888  1317.704622  25.284586    0.430728   \n",
       "0      1     5  57026  57030  1274.180596  1274.262332   8.198613    0.530889   \n",
       "4   2588  2592  60040  60044  1335.767825  1335.849558   3.819592    0.522527   \n",
       "2    522   525  57562  57565  1285.133208  1285.194510   3.607333    0.453797   \n",
       "1    337   340  57372  57375  1281.250758  1281.312060   2.574387    0.464555   \n",
       "5   3298  3301  60801  60804  1351.317573  1351.378873   2.554512    0.463625   \n",
       "\n",
       "   ampl_rec       dur  total_n_valid_data_points  \n",
       "6  0.007049  0.061299                     4269.0  \n",
       "3  0.006589  0.081734                     4269.0  \n",
       "0  0.001365  0.081736                     4269.0  \n",
       "4  0.000763  0.081734                     4269.0  \n",
       "2  0.000886  0.061302                     4269.0  \n",
       "1  0.000531  0.061302                     4269.0  \n",
       "5  0.000516  0.061300                     4269.0  "
      ]
     },
     "execution_count": 6,
     "metadata": {},
     "output_type": "execute_result"
    }
   ],
   "source": [
    "flcd = flcd.find_flares()\n",
    "flcd.flares.sort_values(by=\"ed_rec\", ascending=False)"
   ]
  },
  {
   "cell_type": "markdown",
   "metadata": {},
   "source": [
    "How likely are such flares recovered, what is their true energy prior to noise and de-trending systematics? \n",
    "\n",
    "-> Check out `04_TESS_Light_Curves_with_Flares.ipynb`."
   ]
  },
  {
   "cell_type": "markdown",
   "metadata": {},
   "source": [
    "\n",
    "\n",
    "Questions? Something does not work? Email me @ eilin@aip.de "
   ]
  },
  {
   "cell_type": "code",
   "execution_count": null,
   "metadata": {},
   "outputs": [],
   "source": []
  }
 ],
 "metadata": {
  "kernelspec": {
   "display_name": "refactor",
   "language": "python",
   "name": "refactor"
  },
  "language_info": {
   "codemirror_mode": {
    "name": "ipython",
    "version": 3
   },
   "file_extension": ".py",
   "mimetype": "text/x-python",
   "name": "python",
   "nbconvert_exporter": "python",
   "pygments_lexer": "ipython3",
   "version": "3.6.9"
  }
 },
 "nbformat": 4,
 "nbformat_minor": 2
}
